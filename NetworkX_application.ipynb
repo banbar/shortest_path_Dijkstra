{
 "cells": [
  {
   "cell_type": "code",
   "execution_count": null,
   "metadata": {},
   "outputs": [],
   "source": [
    "import geopandas as gpds\n",
    "import networkx as nx\n",
    "import time\n",
    "import random\n",
    "import matplotlib.pyplot as plt\n",
    "import json"
   ]
  },
  {
   "cell_type": "code",
   "execution_count": null,
   "metadata": {},
   "outputs": [],
   "source": [
    "roads = gpds.read_file('data/sfo_roads.shp')\n",
    "nodes = gpds.read_file('data/sfo_nodes.shp')"
   ]
  },
  {
   "cell_type": "code",
   "execution_count": null,
   "metadata": {},
   "outputs": [],
   "source": [
    "'''\n",
    "Making shape to NetworkX shortest_path function input format\n",
    "'''\n",
    "\n",
    "Edges_Nx = []\n",
    "\n",
    "for i in range(len(roads)):\n",
    "    Edge_Nx = (roads.STARTID.iloc[i],roads.ENDID.iloc[i], {'weight':(roads.LENGTH.iloc[i])})\n",
    "    Edges_Nx.append(Edge_Nx)\n",
    "    \n",
    "    \n",
    "G = nx.Graph()\n",
    "for i in range(len(roads)):\n",
    "    G.add_node(i)\n",
    "G.add_edges_from(Edges_Nx)"
   ]
  },
  {
   "cell_type": "code",
   "execution_count": 11,
   "metadata": {},
   "outputs": [],
   "source": [
    "def Random_Dijkstra_NetworkX(OutputName):\n",
    "    '''\n",
    "    \n",
    "    This function returns the nodes on the path with QGIS SQL query format.\n",
    "    Also it generates the geojson output which contains the path nodes as point layer.\n",
    "    \n",
    "    '''\n",
    "    Nodes = []\n",
    "\n",
    "    # Random nodes selecting\n",
    "    for i in range(len(nodes)):\n",
    "        NodeId = str(int(nodes[\"ID\"][i]))\n",
    "\n",
    "        Nodes.append(NodeId)\n",
    "\n",
    "    \n",
    "    index_start = random.randint(0,len(nodes))\n",
    "    index_finish = random.randint(0,len(nodes))\n",
    "\n",
    "    Starting_Node = Nodes[index_start]\n",
    "    Ending_Node = Nodes[index_finish]\n",
    "    \n",
    "    \n",
    "    out_dict = {\n",
    "    \"type\": \"FeatureCollection\",\n",
    "    \"name\": OutputName,\n",
    "    \"crs\": { \"type\": \"name\", \"properties\": { \"name\": \"urn:ogc:def:crs:EPSG::3857\" } },\n",
    "    \"features\": [\n",
    "    ]\n",
    "    }\n",
    "\n",
    "    \n",
    "    try:\n",
    "        NX_path = nx.shortest_path(G, source=int(Starting_Node), target=int(Ending_Node), weight='weight')\n",
    "    \n",
    "        NX_path_SQL = \"\"\n",
    "\n",
    "        for j in range(len(NX_path)):\n",
    "            query = (' \"ID\" = {} or '.format(NX_path[j]) )\n",
    "    #           \n",
    "            NX_path_SQL += query\n",
    "        \n",
    "        \n",
    "        NX_path_SQL = NX_path_SQL[:-4]\n",
    "        \n",
    "        \n",
    "        for i in range(len(NX_path)):\n",
    "    \n",
    "    \n",
    "\n",
    "            X_coord = nodes[nodes[\"ID\"] == NX_path[i]].geometry.item().x #[\"898840504\"]\n",
    "            Y_coord = nodes[nodes[\"ID\"] == NX_path[i]].geometry.item().y\n",
    "\n",
    "\n",
    "\n",
    "            point_feature = { \"type\": \"Feature\", \"properties\": { \"ID\": i }, \"geometry\": { \"type\": \"Point\", \"coordinates\": [ X_coord, Y_coord ] } }\n",
    "\n",
    "            out_dict[\"features\"].append(point_feature)\n",
    "        \n",
    "        \n",
    "        OutputString = \"{}.geojson\".format(OutputName) \n",
    "\n",
    "        with open(OutputString, 'w') as file:\n",
    "             file.write(json.dumps(out_dict)) # use `json.loads` to do the reverse\n",
    "\n",
    "    except:\n",
    "        NX_path_SQL = \"There is no path between {} and {}.\".format(Starting_Node,Ending_Node)\n",
    "        \n",
    "        \n",
    "    return NX_path_SQL\n",
    "\n",
    "    "
   ]
  },
  {
   "cell_type": "code",
   "execution_count": null,
   "metadata": {},
   "outputs": [],
   "source": [
    "Random_Dijkstra_NetworkX(\"path\")"
   ]
  }
 ],
 "metadata": {
  "kernelspec": {
   "display_name": "Python 3",
   "language": "python",
   "name": "python3"
  },
  "language_info": {
   "codemirror_mode": {
    "name": "ipython",
    "version": 3
   },
   "file_extension": ".py",
   "mimetype": "text/x-python",
   "name": "python",
   "nbconvert_exporter": "python",
   "pygments_lexer": "ipython3",
   "version": "3.7.7"
  }
 },
 "nbformat": 4,
 "nbformat_minor": 4
}
