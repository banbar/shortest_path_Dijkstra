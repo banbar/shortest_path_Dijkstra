{
 "cells": [
  {
   "cell_type": "code",
   "execution_count": null,
   "metadata": {},
   "outputs": [],
   "source": [
    "import geopandas as gpds\n",
    "import networkx as nx\n",
    "import time\n",
    "import random\n",
    "import matplotlib.pyplot as plt\n",
    "import json"
   ]
  },
  {
   "cell_type": "code",
   "execution_count": null,
   "metadata": {},
   "outputs": [],
   "source": [
    "roads = gpds.read_file('data/sfo_roads.shp')\n",
    "nodes = gpds.read_file('data/sfo_nodes.shp')"
   ]
  },
  {
   "cell_type": "code",
   "execution_count": null,
   "metadata": {},
   "outputs": [],
   "source": [
    "'''\n",
    "Making shape to NetworkX shortest_path function input format\n",
    "'''\n",
    "\n",
    "Edges_Nx = []\n",
    "\n",
    "for i in range(len(roads)):\n",
    "    Edge_Nx = (roads.STARTID.iloc[i],roads.ENDID.iloc[i], {'weight':(roads.LENGTH.iloc[i])})\n",
    "    Edges_Nx.append(Edge_Nx)\n",
    "    \n",
    "    \n",
    "G = nx.Graph()\n",
    "for i in range(len(roads)):\n",
    "    G.add_node(i)\n",
    "G.add_edges_from(Edges_Nx)"
   ]
  },
  {
   "cell_type": "code",
   "execution_count": 11,
   "metadata": {},
   "outputs": [],
   "source": [
    "def Random_Dijkstra_NetworkX(OutputName):\n",
    "    '''\n",
    "    \n",
    "    This function returns the nodes on the path with QGIS SQL query format.\n",
    "    Also it generates the geojson output which contains the path nodes as point layer.\n",
    "    \n",
    "    '''\n",
    "    Nodes = []\n",
    "\n",
    "    # Random nodes selecting\n",
    "    for i in range(len(nodes)):\n",
    "        NodeId = str(int(nodes[\"ID\"][i]))\n",
    "\n",
    "        Nodes.append(NodeId)\n",
    "\n",
    "    \n",
    "    index_start = random.randint(0,len(nodes))\n",
    "    index_finish = random.randint(0,len(nodes))\n",
    "\n",
    "    Starting_Node = Nodes[index_start]\n",
    "    Ending_Node = Nodes[index_finish]\n",
    "    \n",
    "    \n",
    "    out_dict = {\n",
    "    \"type\": \"FeatureCollection\",\n",
    "    \"name\": OutputName,\n",
    "    \"crs\": { \"type\": \"name\", \"properties\": { \"name\": \"urn:ogc:def:crs:EPSG::3857\" } },\n",
    "    \"features\": [\n",
    "    ]\n",
    "    }\n",
    "\n",
    "    \n",
    "    try:\n",
    "        NX_path = nx.shortest_path(G, source=int(Starting_Node), target=int(Ending_Node), weight='weight')\n",
    "    \n",
    "        NX_path_SQL = \"\"\n",
    "\n",
    "        for j in range(len(NX_path)):\n",
    "            query = (' \"ID\" = {} or '.format(NX_path[j]) )\n",
    "    #           \n",
    "            NX_path_SQL += query\n",
    "        \n",
    "        \n",
    "        NX_path_SQL = NX_path_SQL[:-4]\n",
    "        \n",
    "        \n",
    "        for i in range(len(NX_path)):\n",
    "    \n",
    "    \n",
    "\n",
    "            X_coord = nodes[nodes[\"ID\"] == NX_path[i]].geometry.item().x #[\"898840504\"]\n",
    "            Y_coord = nodes[nodes[\"ID\"] == NX_path[i]].geometry.item().y\n",
    "\n",
    "\n",
    "\n",
    "            point_feature = { \"type\": \"Feature\", \"properties\": { \"ID\": i }, \"geometry\": { \"type\": \"Point\", \"coordinates\": [ X_coord, Y_coord ] } }\n",
    "\n",
    "            out_dict[\"features\"].append(point_feature)\n",
    "        \n",
    "        \n",
    "        OutputString = \"{}.geojson\".format(OutputName) \n",
    "\n",
    "        with open(OutputString, 'w') as file:\n",
    "             file.write(json.dumps(out_dict)) # use `json.loads` to do the reverse\n",
    "\n",
    "    except:\n",
    "        NX_path_SQL = \"There is no path between {} and {}.\".format(Starting_Node,Ending_Node)\n",
    "        \n",
    "        \n",
    "    return NX_path_SQL\n",
    "\n",
    "    "
   ]
  },
  {
   "cell_type": "code",
   "execution_count": 15,
   "metadata": {},
   "outputs": [],
   "source": [
    "alexxxx = Random_Dijkstra_NetworkX(\"path\")"
   ]
  },
  {
   "cell_type": "code",
   "execution_count": 16,
   "metadata": {},
   "outputs": [
    {
     "name": "stdout",
     "output_type": "stream",
     "text": [
      " \"ID\" = 48524591 or  \"ID\" = 48524595 or  \"ID\" = 48524596 or  \"ID\" = 48524598 or  \"ID\" = 48524600 or  \"ID\" = 48530509 or  \"ID\" = 48530510 or  \"ID\" = 48530514 or  \"ID\" = 851319362 or  \"ID\" = 851319361 or  \"ID\" = 48530527 or  \"ID\" = 851319359 or  \"ID\" = 48530528 or  \"ID\" = 48530550 or  \"ID\" = 946460163 or  \"ID\" = 946460162 or  \"ID\" = 947213705 or  \"ID\" = 48530547 or  \"ID\" = 48530556 or  \"ID\" = 816720638 or  \"ID\" = 886118424 or  \"ID\" = 850784614 or  \"ID\" = 968054914 or  \"ID\" = 48530609 or  \"ID\" = 847345328 or  \"ID\" = 847345327 or  \"ID\" = 855080308 or  \"ID\" = 48530601 or  \"ID\" = 855080309 or  \"ID\" = 276604275 or  \"ID\" = 968081241 or  \"ID\" = 48530628 or  \"ID\" = 968081242 or  \"ID\" = 816720639 or  \"ID\" = 294167512 or  \"ID\" = 968058482 or  \"ID\" = 48530664 or  \"ID\" = 48530669 or  \"ID\" = 816720715 or  \"ID\" = 872523076 or  \"ID\" = 872483213 or  \"ID\" = 849382730 or  \"ID\" = 816720703 or  \"ID\" = 816720702 or  \"ID\" = 48530582 or  \"ID\" = 968053457 or  \"ID\" = 48530784 or  \"ID\" = 48530797 or  \"ID\" = 801727302 or  \"ID\" = 48530832 or  \"ID\" = 872566158 or  \"ID\" = 816720654 or  \"ID\" = 816720653 or  \"ID\" = 816720652 or  \"ID\" = 816720655 or  \"ID\" = 48531078 or  \"ID\" = 855119728 or  \"ID\" = 816720700 or  \"ID\" = 48531125 or  \"ID\" = 19700537 or  \"ID\" = 816720698 or  \"ID\" = 872567356 or  \"ID\" = 19693746 or  \"ID\" = 872617564 or  \"ID\" = 967917458 or  \"ID\" = 48531213 or  \"ID\" = 872576242 or  \"ID\" = 48532194 or  \"ID\" = 847346966 or  \"ID\" = 967913440 or  \"ID\" = 108479651 or  \"ID\" = 48532221 or  \"ID\" = 953614894 or  \"ID\" = 48532418 or  \"ID\" = 962946926 or  \"ID\" = 48532426 or  \"ID\" = 974874185 or  \"ID\" = 48532433 or  \"ID\" = 48532452 or  \"ID\" = 48532455 or  \"ID\" = 94350501 or  \"ID\" = 872644900 or  \"ID\" = 872662117 or  \"ID\" = 48532635 or  \"ID\" = 970042383 or  \"ID\" = 48532637 or  \"ID\" = 961657321 or  \"ID\" = 48532654 or  \"ID\" = 48532661 or  \"ID\" = 48532665 or  \"ID\" = 961657319 or  \"ID\" = 48532760 or  \"ID\" = 48532765 or  \"ID\" = 961641073 or  \"ID\" = 48532770 or  \"ID\" = 48532796 or  \"ID\" = 869015362 or  \"ID\" = 48532806 or  \"ID\" = 48532833 or  \"ID\" = 294167440 or  \"ID\" = 869015360 or  \"ID\" = 869015359 or  \"ID\" = 294167431 or  \"ID\" = 48532849 or  \"ID\" = 294167429 or  \"ID\" = 48532853 or  \"ID\" = 19720854 or  \"ID\" = 961653930 or  \"ID\" = 961653932 or  \"ID\" = 48532937 or  \"ID\" = 48533007 or  \"ID\" = 48533038 or  \"ID\" = 50092180 or  \"ID\" = 19702940 or  \"ID\" = 808021674 or  \"ID\" = 851341862 or  \"ID\" = 288822502 or  \"ID\" = 50092263 or  \"ID\" = 967847224 or  \"ID\" = 108504553 or  \"ID\" = 108504554 or  \"ID\" = 967846305 or  \"ID\" = 19702939 or  \"ID\" = 969178962 or  \"ID\" = 207278350 or  \"ID\" = 855159665 or  \"ID\" = 50096768 or  \"ID\" = 50096777 or  \"ID\" = 19702938 or  \"ID\" = 50096827 or  \"ID\" = 806180363 or  \"ID\" = 847344896 or  \"ID\" = 847344895 or  \"ID\" = 847344897 or  \"ID\" = 806180364 or  \"ID\" = 108468815 or  \"ID\" = 108468813 or  \"ID\" = 108468817 or  \"ID\" = 818466423 or  \"ID\" = 207278477 or  \"ID\" = 850758942 or  \"ID\" = 50096904 or  \"ID\" = 810819608 or  \"ID\" = 967754040 or  \"ID\" = 850758944 or  \"ID\" = 850758945 or  \"ID\" = 967840314 or  \"ID\" = 50097048 or  \"ID\" = 898363284 or  \"ID\" = 50097035 or  \"ID\" = 805751627 or  \"ID\" = 50097033 or  \"ID\" = 898363285 or  \"ID\" = 312290067 or  \"ID\" = 50097018 or  \"ID\" = 50097023 or  \"ID\" = 898840504 or  \"ID\" = 969175799 or  \"ID\" = 953879980 or  \"ID\" = 50097065 or  \"ID\" = 969337194 or  \"ID\" = 19702981 or  \"ID\" = 704944195 or  \"ID\" = 50097037 or  \"ID\" = 207278455 or  \"ID\" = 207278432 or  \"ID\" = 855082318 or  \"ID\" = 207278460 or  \"ID\" = 50097042 or  \"ID\" = 50096891\n"
     ]
    }
   ],
   "source": [
    "print(alexxxx)"
   ]
  },
  {
   "cell_type": "code",
   "execution_count": null,
   "metadata": {},
   "outputs": [],
   "source": []
  }
 ],
 "metadata": {
  "kernelspec": {
   "display_name": "Python 3",
   "language": "python",
   "name": "python3"
  },
  "language_info": {
   "codemirror_mode": {
    "name": "ipython",
    "version": 3
   },
   "file_extension": ".py",
   "mimetype": "text/x-python",
   "name": "python",
   "nbconvert_exporter": "python",
   "pygments_lexer": "ipython3",
   "version": "3.7.7"
  }
 },
 "nbformat": 4,
 "nbformat_minor": 4
}
